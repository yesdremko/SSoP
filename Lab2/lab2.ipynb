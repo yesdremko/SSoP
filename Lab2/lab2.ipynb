{
 "cells": [
  {
   "cell_type": "markdown",
   "metadata": {},
   "source": [
    "## Лабораторна робота №2\n",
    "Виконав студент групи ФІ-31 Дремко Олександр"
   ]
  },
  {
   "cell_type": "code",
   "execution_count": 49,
   "metadata": {},
   "outputs": [],
   "source": [
    "import pandas as pd\n",
    "import os\n",
    "from urllib import request\n",
    "from datetime import datetime\n",
    "from shutil import rmtree"
   ]
  },
  {
   "cell_type": "markdown",
   "metadata": {},
   "source": [
    "1. Для кожної із адміністративних одиниць України завантажити тестові\n",
    "структуровані файли, що містять значення VHI-індексу. Ця процедура має бути\n",
    "автоматизована, параметром процедури має бути індекс (номер) області. При зберіганні файлу до його імені потрібно додати дату та час завантаження. Передбачити повторні запуски скрипту, довантаження нових даних та колізію даних\n"
   ]
  },
  {
   "cell_type": "code",
   "execution_count": 50,
   "metadata": {},
   "outputs": [],
   "source": [
    "# Перевірка папки на порожність та очищення\n",
    "def check_folder(folder_path):\n",
    "    # Якщо папки не існує то створюємо її\n",
    "    if not os.path.exists(folder_path):\n",
    "        os.makedirs(folder_path)\n",
    "        \n",
    "    # Якщо папка існує і не порожня то очищаємо її\n",
    "    elif os.listdir(folder_path):\n",
    "        rmtree(folder_path)\n",
    "        os.makedirs(folder_path)\n",
    "\n",
    "# Завантаження даних для області за id\n",
    "def download_data(province_id):\n",
    "    url = f'https://www.star.nesdis.noaa.gov/smcd/emb/vci/VH/get_TS_admin.php?country=UKR&provinceID={province_id}&year1=1981&year2=2024&type=Mean'\n",
    "    try:\n",
    "        vhi = request.urlopen(url).read().decode('utf-8')\n",
    "        now = datetime.now()\n",
    "        formatted_time = now.strftime('%d%m%Y%H%M%S')\n",
    "        file_name = f'data/vhi_id_{province_id}_{formatted_time}.csv'\n",
    "        with open(file_name, 'w') as f:\n",
    "            f.write(vhi)\n",
    "        print(f'Data for province {province_id} saved as {file_name}')\n",
    "    except Exception as e:\n",
    "        print(f'Error loading file for province {province_id}: {e}')\n",
    "\n",
    "folder_path = 'data'\n",
    "#check_folder(folder_path)\n",
    "\n",
    "#for province_id in range(1, 28):\n",
    "#    download_data(province_id)\n"
   ]
  },
  {
   "cell_type": "markdown",
   "metadata": {},
   "source": [
    "2. Зчитати завантажені текстові файли у фрейм. Імена стовбців фрейму мають бути змістовними та легкими для сприйняття (не повинно бути спеціалізованих символів, пробілів тощо). Ця задача має бути реалізована у вигляді окремої процедури, яка на вхід приймає шлях до директорії, в якій зберігаються файли"
   ]
  },
  {
   "cell_type": "code",
   "execution_count": 51,
   "metadata": {},
   "outputs": [],
   "source": [
    "def create_df(folder_path):\n",
    "    all_dfs = []  # Список для збереження всіх DataFrame\n",
    "\n",
    "    # Обхід усіх файлів у папці\n",
    "    for filename in os.listdir(folder_path):\n",
    "        if filename.endswith('.csv'):\n",
    "            file_path = os.path.join(folder_path, filename)\n",
    "            \n",
    "            # Витягуємо area з імені файлу, розділяючи підкресленням (_)\n",
    "            try:\n",
    "                area = int(filename.split('_')[2])\n",
    "            except (IndexError, ValueError):\n",
    "                print(f\"Не вдалося витягти area з файлу: {filename}\")\n",
    "                continue\n",
    "\n",
    "            # Завантаження та очищення даних\n",
    "            try:\n",
    "                # Пропускаємо метадані та зчитуємо дані починаючи з заголовка\n",
    "                df = pd.read_csv(file_path, skiprows=2, skipinitialspace=True)\n",
    "                \n",
    "                # Видаляємо порожні стовпці, якщо вони є\n",
    "                df = df.dropna(axis=1, how=\"all\")\n",
    "                \n",
    "                # Виправляємо назви стовпців\n",
    "                df.columns = ['Year', 'Week', 'SMN', 'SMT', 'VCI', 'TCI', 'VHI']\n",
    "                \n",
    "                # Додаємо ідентифікатор області\n",
    "                df['area'] = area\n",
    "                \n",
    "                # Перетворюємо дані на числові типи\n",
    "                for col in ['Year', 'Week', 'SMN', 'SMT', 'VCI', 'TCI', 'VHI']:\n",
    "                    df[col] = pd.to_numeric(df[col], errors='coerce')\n",
    "                \n",
    "                # Видаляємо рядки з NaN у стовпці Year\n",
    "                df = df[df['Year'].notna()]\n",
    "\n",
    "                # Видаляємо рядки з -1\n",
    "                df = df[df['VHI'] != -1] \n",
    "                \n",
    "                # Додаємо очищений DataFrame до списку\n",
    "                all_dfs.append(df)\n",
    "                \n",
    "            except pd.errors.EmptyDataError:\n",
    "                print(f\"Файл порожній або не вдалося прочитати: {filename}\")\n",
    "\n",
    "    # Об’єднання всіх DataFrame в один\n",
    "    if all_dfs:\n",
    "        combined_df = pd.concat(all_dfs, ignore_index=True)\n",
    "    else:\n",
    "        print(\"Не вдалося об'єднати DataFrame: список порожній\")\n",
    "        return pd.DataFrame()  # Повертаємо порожній DataFrame у разі помилки\n",
    "\n",
    "    # Виводимо інформацію про об'єднаний DataFrame\n",
    "    print(\"Об'єднаний DataFrame створено\")\n",
    "    return combined_df"
   ]
  },
  {
   "cell_type": "code",
   "execution_count": 52,
   "metadata": {},
   "outputs": [
    {
     "name": "stdout",
     "output_type": "stream",
     "text": [
      "Об'єднаний DataFrame створено\n",
      "         Year  Week    SMN     SMT    VCI    TCI    VHI  area\n",
      "21750  1982.0   2.0  0.054  262.29  46.83  31.75  39.29     1\n",
      "21751  1982.0   3.0  0.055  263.82  48.13  27.24  37.68     1\n",
      "21752  1982.0   4.0  0.053  265.33  46.09  23.91  35.00     1\n",
      "21753  1982.0   5.0  0.050  265.66  41.46  26.65  34.06     1\n",
      "21754  1982.0   6.0  0.048  266.55  36.56  29.46  33.01     1\n"
     ]
    }
   ],
   "source": [
    "df = create_df(folder_path)\n",
    "#print(df.tail())\n",
    "#print(df.head())\n",
    "\n",
    "filtered_df = df[df['area'] == 1]\n",
    "print(filtered_df.head())"
   ]
  },
  {
   "cell_type": "markdown",
   "metadata": {},
   "source": [
    "3. Реалізувати окрему процедуру, яка змінить індекси областей, які використані на порталі NOAA з англійської абетки, на українську (старі індекси на нові)"
   ]
  },
  {
   "cell_type": "code",
   "execution_count": 53,
   "metadata": {},
   "outputs": [],
   "source": [
    "def replace_province_ids(df):\n",
    "    # Перевірка, чи є колонка area в датафреймі\n",
    "    if 'area' not in df.columns:\n",
    "        print(\"Помилка: колонка 'area' відсутня.\")\n",
    "        return df\n",
    "    \n",
    "    # Словник для заміни ідентифікаторів областей\n",
    "    new_ids = {\n",
    "        1: 22, 2: 24, 3: 23, 4: 25, 5: 3, 6: 4, 7: 8, 8: 19, 9: 20,\n",
    "        10: 21, 11: 9, 12: 9, 13: 10, 14: 11, 15: 12, 16: 13, 17: 14,\n",
    "        18: 15, 19: 16, 20: 26, 21: 17, 22: 18, 23: 6, 24: 1, 25: 2,\n",
    "        26: 7, 27: 5\n",
    "    }\n",
    "    # Замінюємо значення у колонці area відповідно до словника\n",
    "    dfc = df.copy()\n",
    "    dfc[\"area\"] = dfc[\"area\"].replace(new_ids)\n",
    "    return dfc"
   ]
  },
  {
   "cell_type": "code",
   "execution_count": 54,
   "metadata": {},
   "outputs": [
    {
     "name": "stdout",
     "output_type": "stream",
     "text": [
      "     Year  Week    SMN     SMT    VCI    TCI    VHI  area\n",
      "0  1982.0   2.0  0.063  261.53  55.89  38.20  47.04    21\n",
      "1  1982.0   3.0  0.063  263.45  57.30  32.69  44.99    21\n",
      "2  1982.0   4.0  0.061  265.10  53.96  28.62  41.29    21\n",
      "3  1982.0   5.0  0.058  266.42  46.87  28.57  37.72    21\n",
      "4  1982.0   6.0  0.056  267.47  39.55  30.27  34.91    21\n",
      "     Year  Week    SMN     SMT    VCI    TCI    VHI  area\n",
      "0  1982.0   2.0  0.063  261.53  55.89  38.20  47.04    10\n",
      "1  1982.0   3.0  0.063  263.45  57.30  32.69  44.99    10\n",
      "2  1982.0   4.0  0.061  265.10  53.96  28.62  41.29    10\n",
      "3  1982.0   5.0  0.058  266.42  46.87  28.57  37.72    10\n",
      "4  1982.0   6.0  0.056  267.47  39.55  30.27  34.91    10\n"
     ]
    }
   ],
   "source": [
    "uk_df = replace_province_ids(df)\n",
    "print(uk_df.head())\n",
    "print(df.head())"
   ]
  },
  {
   "cell_type": "markdown",
   "metadata": {},
   "source": [
    "#### 4. Реалізувати процедури для формування вибірок наступного виду:\n",
    "\n",
    "1. Ряд VHI для області за вказаний рік"
   ]
  },
  {
   "cell_type": "code",
   "execution_count": 55,
   "metadata": {},
   "outputs": [],
   "source": [
    "def vhi_series(df, province_id, year):\n",
    "    # Перевірка, чи містить датафрейм вказані колонки\n",
    "    if 'area' not in df.columns or 'Year' not in df.columns or 'VHI' not in df.columns:\n",
    "        print(\"Помилка: відсутні потрібні колонки.\")\n",
    "        return pd.Series(dtype='float64')\n",
    "\n",
    "    # Фільтруємо дані для заданої області та року\n",
    "    vhi_data = df[(df['area'] == province_id) & (df['Year'] == year)]['VHI']\n",
    "    \n",
    "    # Перевірка, чи є дані для вказаних параметрів\n",
    "    if vhi_data.empty:\n",
    "        print(f\"Дані для області {province_id} у {year} році відсутні.\")\n",
    "        return pd.Series(dtype='float64')\n",
    "    \n",
    "    return vhi_data"
   ]
  },
  {
   "cell_type": "code",
   "execution_count": 56,
   "metadata": {},
   "outputs": [
    {
     "name": "stdout",
     "output_type": "stream",
     "text": [
      "33771    56.65\n",
      "33772    55.96\n",
      "33773    56.88\n",
      "33774    58.05\n",
      "33775    58.71\n",
      "Name: VHI, dtype: float64\n"
     ]
    }
   ],
   "source": [
    "vhi_series = vhi_series(df, 24, 2005)\n",
    "print(vhi_series.head())"
   ]
  },
  {
   "cell_type": "markdown",
   "metadata": {},
   "source": [
    "2. Пошук екстремумів (min та max) для вказаних областей та років,\n",
    "середнього, медіани"
   ]
  },
  {
   "cell_type": "code",
   "execution_count": 57,
   "metadata": {},
   "outputs": [],
   "source": [
    "def get_min_max_mean_median(df, areas, years):\n",
    "    # Перевірка наявності колонок\n",
    "    if 'area' not in df.columns or 'Year' not in df.columns or 'VHI' not in df.columns:\n",
    "        print(\"Помилка: відсутні потрібні колонки.\")\n",
    "        return None, None, None, None\n",
    "    \n",
    "    # Фільтруємо дані для вказаних областей та років\n",
    "    filtered_data = df[(df['area'].isin(areas)) & (df['Year'].isin(years))]['VHI']\n",
    "    \n",
    "    # Перевірка наявності даних\n",
    "    if filtered_data.empty:\n",
    "        print(f\"Дані для областей {areas} за роки {years} відсутні.\")\n",
    "        return None, None, None, None\n",
    "\n",
    "    # Розрахунок показників\n",
    "    vhi_min = filtered_data.min()\n",
    "    vhi_max = filtered_data.max()\n",
    "    vhi_mean = filtered_data.mean()\n",
    "    vhi_median = filtered_data.median()\n",
    "\n",
    "    return vhi_min, vhi_max, vhi_mean, vhi_median"
   ]
  },
  {
   "cell_type": "code",
   "execution_count": 58,
   "metadata": {},
   "outputs": [
    {
     "name": "stdout",
     "output_type": "stream",
     "text": [
      "Min: 10.68, Max: 72.05, Mean: 44.6627659574468, Median: 44.96\n"
     ]
    }
   ],
   "source": [
    "min_val, max_val, mean_val, median_val = get_min_max_mean_median(df, [1, 2], [2000, 2024])\n",
    "print(f\"Min: {min_val}, Max: {max_val}, Mean: {mean_val}, Median: {median_val}\")"
   ]
  },
  {
   "cell_type": "markdown",
   "metadata": {},
   "source": [
    "3. Ряд VHI за вказаний діапазон років для вказаних областей"
   ]
  },
  {
   "cell_type": "code",
   "execution_count": 59,
   "metadata": {},
   "outputs": [],
   "source": [
    "def vhi_series_range(df, areas, start_year, end_year):\n",
    "    # Перевірка наявності потрібних колонок\n",
    "    if 'area' not in df.columns or 'Year' not in df.columns or 'VHI' not in df.columns:\n",
    "        print(\"Помилка: відсутні потрібні колонки.\")\n",
    "        return pd.Series(dtype='float64')\n",
    "    \n",
    "    # Фільтруємо за областями та роками\n",
    "    vhi_data = df[(df['area'].isin(areas)) & (df['Year'].between(start_year, end_year))]['VHI']\n",
    "    \n",
    "    # Перевірка наявності даних\n",
    "    if vhi_data.empty:\n",
    "        print(f\"Дані для областей {areas} за роки {start_year}-{end_year} відсутні.\")\n",
    "        return pd.Series(dtype='float64')\n",
    "\n",
    "    return vhi_data"
   ]
  },
  {
   "cell_type": "code",
   "execution_count": 60,
   "metadata": {},
   "outputs": [
    {
     "name": "stdout",
     "output_type": "stream",
     "text": [
      "16130    34.57\n",
      "16131    38.38\n",
      "16132    38.26\n",
      "16133    38.16\n",
      "16134    38.20\n",
      "Name: VHI, dtype: float64\n"
     ]
    }
   ],
   "source": [
    "vhi_series_range = vhi_series_range(df, [24, 17], 2000, 2005)\n",
    "print(vhi_series_range.head())"
   ]
  },
  {
   "cell_type": "markdown",
   "metadata": {},
   "source": [
    "4. Для всього набору даних виявити роки, протягом яких екстремальні посухи торкнулися більше вказаного відсотка областей по Україні. Повернути роки, назви областей зекстремальними посухами та значення VHI\n",
    "\n",
    "    VHI < 15 – посуха, інтенсивність якої від середньої до надзвичайної"
   ]
  },
  {
   "cell_type": "code",
   "execution_count": 79,
   "metadata": {},
   "outputs": [],
   "source": [
    "def find_extreme_drought_years(df, percent):\n",
    "    # Рахуємо кількість областей\n",
    "    total_areas = df['area'].nunique()\n",
    "    threshold_areas = total_areas * (percent / 100)\n",
    "    \n",
    "    # Фільтруємо дані для екстремальної посухи\n",
    "    drought_df = df[df['VHI'] < 15]\n",
    "\n",
    "    # Групуємо за роком і рахуємо кількість уражених областей кожного року\n",
    "    drought_counts = drought_df.groupby('Year')['area'].nunique()\n",
    "\n",
    "    # Вибираємо лише роки, де кількість уражених областей перевищує threshold_areas\n",
    "    extreme_drought_years = drought_counts[drought_counts > threshold_areas].index\n",
    "\n",
    "    # Формуємо результат\n",
    "    result = drought_df[drought_df['Year'].isin(extreme_drought_years)][['Year', 'area']].drop_duplicates()\n",
    "    \n",
    "    # Перевіряємо, чи є результати\n",
    "    if result.empty:\n",
    "        print(\"Не знайдено років з екстремальними посухами, що перевищують заданий відсоток.\")\n",
    "        return pd.DataFrame()\n",
    "\n",
    "    return result"
   ]
  },
  {
   "cell_type": "code",
   "execution_count": 80,
   "metadata": {},
   "outputs": [
    {
     "name": "stdout",
     "output_type": "stream",
     "text": [
      "         Year  area\n",
      "3123   2000.0    11\n",
      "5296   2000.0    12\n",
      "14320  2007.0    16\n",
      "16498  2007.0    17\n",
      "22698  2000.0     1\n",
      "24874  2000.0    20\n",
      "33574  2000.0    24\n",
      "38250  2007.0    26\n",
      "46953  2007.0     4\n",
      "55325  2000.0     8\n",
      "57821  2007.0     9\n"
     ]
    }
   ],
   "source": [
    "extreme_droughts = find_extreme_drought_years(df, 10)  # Шукаємо роки, коли 20% областей зазнали посухи\n",
    "print(extreme_droughts)\n"
   ]
  }
 ],
 "metadata": {
  "kernelspec": {
   "display_name": "venv",
   "language": "python",
   "name": "python3"
  },
  "language_info": {
   "codemirror_mode": {
    "name": "ipython",
    "version": 3
   },
   "file_extension": ".py",
   "mimetype": "text/x-python",
   "name": "python",
   "nbconvert_exporter": "python",
   "pygments_lexer": "ipython3",
   "version": "3.12.6"
  }
 },
 "nbformat": 4,
 "nbformat_minor": 2
}
