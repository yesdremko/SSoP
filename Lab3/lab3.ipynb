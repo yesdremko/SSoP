{
 "cells": [
  {
   "cell_type": "markdown",
   "metadata": {},
   "source": [
    "## Лабораторна робота №3\n",
    "Виконав студент групи ФІ-31 Дремко Олександр"
   ]
  },
  {
   "cell_type": "code",
   "execution_count": 1,
   "metadata": {},
   "outputs": [
    {
     "name": "stderr",
     "output_type": "stream",
     "text": [
      "WARNING:root:Warning: unable to set defaultencoding to utf-8\n"
     ]
    }
   ],
   "source": [
    "from spyre import server\n",
    "from datetime import datetime, timedelta\n",
    "import pandas as pd\n",
    "import os\n",
    "from urllib import request\n",
    "from shutil import rmtree\n",
    "import matplotlib.pyplot as plt\n",
    "import __main__"
   ]
  },
  {
   "cell_type": "markdown",
   "metadata": {},
   "source": [
    "1. Для кожної із адміністративних одиниць України завантажити тестові\n",
    "структуровані файли, що містять значення VHI-індексу. Ця процедура має бути\n",
    "автоматизована, параметром процедури має бути індекс (номер) області. При зберіганні файлу до його імені потрібно додати дату та час завантаження. Передбачити повторні запуски скрипту, довантаження нових даних та колізію даних"
   ]
  },
  {
   "cell_type": "code",
   "execution_count": 2,
   "metadata": {},
   "outputs": [],
   "source": [
    "# Перевірка папки на порожність та очищення\n",
    "def check_folder(folder_path):\n",
    "    # Якщо папки не існує то створюємо її\n",
    "    if not os.path.exists(folder_path):\n",
    "        os.makedirs(folder_path)\n",
    "        \n",
    "    # Якщо папка існує і не порожня то очищаємо її\n",
    "    elif os.listdir(folder_path):\n",
    "        rmtree(folder_path)\n",
    "        os.makedirs(folder_path)\n",
    "\n",
    "# Завантаження даних для області за id\n",
    "def download_data(province_id):\n",
    "    url = f'https://www.star.nesdis.noaa.gov/smcd/emb/vci/VH/get_TS_admin.php?country=UKR&provinceID={province_id}&year1=1981&year2=2024&type=Mean'\n",
    "    try:\n",
    "        vhi = request.urlopen(url).read().decode('utf-8')\n",
    "        now = datetime.now()\n",
    "        formatted_time = now.strftime('%d%m%Y%H%M%S')\n",
    "        file_name = f'data/vhi_id_{province_id}_{formatted_time}.csv'\n",
    "        with open(file_name, 'w') as f:\n",
    "            f.write(vhi)\n",
    "        print(f'Data for province {province_id} saved as {file_name}')\n",
    "    except Exception as e:\n",
    "        print(f'Error loading file for province {province_id}: {e}')"
   ]
  },
  {
   "cell_type": "code",
   "execution_count": 3,
   "metadata": {},
   "outputs": [],
   "source": [
    "folder_path = 'data'\n",
    "# check_folder(folder_path)\n",
    "\n",
    "# for province_id in range(1, 28):\n",
    "#     download_data(province_id)"
   ]
  },
  {
   "cell_type": "markdown",
   "metadata": {},
   "source": [
    "2. Зчитати завантажені текстові файли у фрейм. Імена стовбців фрейму мають бути змістовними та легкими для сприйняття (не повинно бути спеціалізованих символів, пробілів тощо). Ця задача має бути реалізована у вигляді окремої процедури, яка на вхід приймає шлях до директорії, в якій зберігаються файли"
   ]
  },
  {
   "cell_type": "code",
   "execution_count": 4,
   "metadata": {},
   "outputs": [],
   "source": [
    "def create_df(folder_path):\n",
    "    all_dfs = []  # Список для збереження всіх DataFrame\n",
    "\n",
    "    # Обхід усіх файлів у папці\n",
    "    for filename in os.listdir(folder_path):\n",
    "        if filename.endswith('.csv'):\n",
    "            file_path = os.path.join(folder_path, filename)\n",
    "            \n",
    "            # Витягуємо area з імені файлу, розділяючи підкресленням (_)\n",
    "            try:\n",
    "                area = int(filename.split('_')[2])\n",
    "            except (IndexError, ValueError):\n",
    "                print(f\"Не вдалося витягти area з файлу: {filename}\")\n",
    "                continue\n",
    "\n",
    "            # Завантаження та очищення даних\n",
    "            try:\n",
    "                # Пропускаємо метадані та зчитуємо дані починаючи з заголовка\n",
    "                df = pd.read_csv(file_path, skiprows=2, skipinitialspace=True)\n",
    "                \n",
    "                # Видаляємо порожні стовпці, якщо вони є\n",
    "                df = df.dropna(axis=1, how=\"all\")\n",
    "                \n",
    "                # Виправляємо назви стовпців\n",
    "                df.columns = ['Year', 'Week', 'SMN', 'SMT', 'VCI', 'TCI', 'VHI']\n",
    "                \n",
    "                # Додаємо ідентифікатор області\n",
    "                df['area'] = area\n",
    "                \n",
    "                # Перетворюємо дані на числові типи\n",
    "                for col in ['Year', 'Week', 'SMN', 'SMT', 'VCI', 'TCI', 'VHI']:\n",
    "                    df[col] = pd.to_numeric(df[col], errors='coerce')\n",
    "                \n",
    "                # Видаляємо рядки з NaN у стовпці Year\n",
    "                df = df[df['Year'].notna()]\n",
    "\n",
    "                # Видаляємо рядки з -1\n",
    "                df = df[df['VHI'] != -1] \n",
    "                \n",
    "                # Додаємо очищений DataFrame до списку\n",
    "                all_dfs.append(df)\n",
    "                \n",
    "            except pd.errors.EmptyDataError:\n",
    "                print(f\"Файл порожній або не вдалося прочитати: {filename}\")\n",
    "\n",
    "    \n",
    "\n",
    "    # Об’єднання всіх DataFrame в один\n",
    "    if all_dfs:\n",
    "        combined_df = pd.concat(all_dfs, ignore_index=True)\n",
    "    else:\n",
    "        print(\"Не вдалося об'єднати DataFrame: список порожній\")\n",
    "        return pd.DataFrame()  # Повертаємо порожній DataFrame у разі помилки\n",
    "\n",
    "    # Виводимо інформацію про об'єднаний DataFrame\n",
    "    print(\"Об'єднаний DataFrame створено\")\n",
    "\n",
    "    return combined_df"
   ]
  },
  {
   "cell_type": "code",
   "execution_count": 7,
   "metadata": {},
   "outputs": [],
   "source": [
    "def convert_YearWeek_to_Date(df):\n",
    "    # Перетворюємо значення стовпців Year і Week в int\n",
    "    df['Year'] = df['Year'].astype(int)\n",
    "    df['Week'] = df['Week'].astype(int)\n",
    "\n",
    "    # Перетворюємо Year і Week у дату\n",
    "    df['FormattedDate'] = df.Year * 1000 + df.Week * 10 + 0\n",
    "    # df['FormattedDate'] = f\"{df['Year']:04d}{df['Week']:02d}\"\n",
    "    df['Date'] = pd.to_datetime(df['FormattedDate'], format='%Y%W%w')\n",
    "\n",
    "    # Сортуємо стовпці, видаляючи зайві\n",
    "    columns_order = ['Date','Year', 'Week', 'SMN', 'SMT', 'VCI', 'TCI', 'VHI', 'area']\n",
    "    df = df[columns_order]\n",
    "\n",
    "    return df"
   ]
  },
  {
   "cell_type": "code",
   "execution_count": 8,
   "metadata": {},
   "outputs": [
    {
     "name": "stdout",
     "output_type": "stream",
     "text": [
      "Об'єднаний DataFrame створено\n",
      "     Year  Week    SMN     SMT    VCI    TCI    VHI  area\n",
      "0  1982.0   2.0  0.063  261.53  55.89  38.20  47.04    10\n",
      "1  1982.0   3.0  0.063  263.45  57.30  32.69  44.99    10\n",
      "2  1982.0   4.0  0.061  265.10  53.96  28.62  41.29    10\n",
      "3  1982.0   5.0  0.058  266.42  46.87  28.57  37.72    10\n",
      "4  1982.0   6.0  0.056  267.47  39.55  30.27  34.91    10\n",
      "        Date  Year  Week    SMN     SMT    VCI    TCI    VHI  area\n",
      "0 1982-01-17  1982     2  0.063  261.53  55.89  38.20  47.04    10\n",
      "1 1982-01-24  1982     3  0.063  263.45  57.30  32.69  44.99    10\n",
      "2 1982-01-31  1982     4  0.061  265.10  53.96  28.62  41.29    10\n",
      "3 1982-02-07  1982     5  0.058  266.42  46.87  28.57  37.72    10\n",
      "4 1982-02-14  1982     6  0.056  267.47  39.55  30.27  34.91    10\n"
     ]
    }
   ],
   "source": [
    "df = create_df(folder_path)\n",
    "print(df.head())\n",
    "\n",
    "df = convert_YearWeek_to_Date(df)\n",
    "print(df.head())\n",
    "\n",
    "# print(df.dtypes)\n",
    "\n",
    "# filtered_df = df[df['area'] == 1]\n",
    "# print(filtered_df.head())"
   ]
  },
  {
   "cell_type": "markdown",
   "metadata": {},
   "source": [
    "3. Створити веб додаток за допомогою бібліотеки Spyre\n",
    "- Додати випадаючий список який має містити VCI, TCI, VHI\n",
    "- Додати випадаючий список для вибору області\n",
    "- Додати текстові поля для введення інтервалу дат\n",
    "- Вивести таблицю і графік з відсортованими данними"
   ]
  },
  {
   "cell_type": "code",
   "execution_count": null,
   "metadata": {},
   "outputs": [
    {
     "name": "stderr",
     "output_type": "stream",
     "text": [
      "[25/Nov/2024:14:45:17] ENGINE Listening for SIGTERM.\n",
      "INFO:cherrypy.error:[25/Nov/2024:14:45:17] ENGINE Listening for SIGTERM.\n",
      "[25/Nov/2024:14:45:17] ENGINE Bus STARTING\n",
      "INFO:cherrypy.error:[25/Nov/2024:14:45:17] ENGINE Bus STARTING\n",
      "[25/Nov/2024:14:45:17] ENGINE Set handler for console events.\n",
      "INFO:cherrypy.error:[25/Nov/2024:14:45:17] ENGINE Set handler for console events.\n",
      "CherryPy Checker:\n",
      "The Application mounted at '' has an empty config.\n",
      "\n",
      "[25/Nov/2024:14:45:17] ENGINE Started monitor thread 'Autoreloader'.\n",
      "INFO:cherrypy.error:[25/Nov/2024:14:45:17] ENGINE Started monitor thread 'Autoreloader'.\n",
      "[25/Nov/2024:14:45:18] ENGINE Serving on http://127.0.0.1:9093\n",
      "INFO:cherrypy.error:[25/Nov/2024:14:45:18] ENGINE Serving on http://127.0.0.1:9093\n",
      "[25/Nov/2024:14:45:18] ENGINE Bus STARTED\n",
      "INFO:cherrypy.error:[25/Nov/2024:14:45:18] ENGINE Bus STARTED\n"
     ]
    },
    {
     "name": "stdout",
     "output_type": "stream",
     "text": [
      "127.0.0.1 - - [25/Nov/2024:14:45:26] \"GET / HTTP/1.1\" 200 442105 \"\" \"Mozilla/5.0 (Windows NT 10.0; Win64; x64; rv:132.0) Gecko/20100101 Firefox/132.0\"\n"
     ]
    },
    {
     "name": "stderr",
     "output_type": "stream",
     "text": [
      "INFO:cherrypy.access.2079491014416:127.0.0.1 - - [25/Nov/2024:14:45:26] \"GET / HTTP/1.1\" 200 442105 \"\" \"Mozilla/5.0 (Windows NT 10.0; Win64; x64; rv:132.0) Gecko/20100101 Firefox/132.0\"\n"
     ]
    },
    {
     "name": "stdout",
     "output_type": "stream",
     "text": [
      "127.0.0.1 - - [25/Nov/2024:14:45:26] \"GET /table?index=VCI&region=1&start_date=1982-01-01&end_date=1982-12-31&output_id=table_id& HTTP/1.1\" 200 4201 \"http://127.0.0.1:9093/\" \"Mozilla/5.0 (Windows NT 10.0; Win64; x64; rv:132.0) Gecko/20100101 Firefox/132.0\"\n"
     ]
    },
    {
     "name": "stderr",
     "output_type": "stream",
     "text": [
      "INFO:cherrypy.access.2079491014416:127.0.0.1 - - [25/Nov/2024:14:45:26] \"GET /table?index=VCI&region=1&start_date=1982-01-01&end_date=1982-12-31&output_id=table_id& HTTP/1.1\" 200 4201 \"http://127.0.0.1:9093/\" \"Mozilla/5.0 (Windows NT 10.0; Win64; x64; rv:132.0) Gecko/20100101 Firefox/132.0\"\n"
     ]
    },
    {
     "name": "stdout",
     "output_type": "stream",
     "text": [
      "127.0.0.1 - - [25/Nov/2024:14:45:26] \"GET /spinning_wheel HTTP/1.1\" 200 2663 \"http://127.0.0.1:9093/\" \"Mozilla/5.0 (Windows NT 10.0; Win64; x64; rv:132.0) Gecko/20100101 Firefox/132.0\"\n"
     ]
    },
    {
     "name": "stderr",
     "output_type": "stream",
     "text": [
      "INFO:cherrypy.access.2079491014416:127.0.0.1 - - [25/Nov/2024:14:45:26] \"GET /spinning_wheel HTTP/1.1\" 200 2663 \"http://127.0.0.1:9093/\" \"Mozilla/5.0 (Windows NT 10.0; Win64; x64; rv:132.0) Gecko/20100101 Firefox/132.0\"\n"
     ]
    },
    {
     "name": "stdout",
     "output_type": "stream",
     "text": [
      "127.0.0.1 - - [25/Nov/2024:14:45:26] \"GET /favicon.ico HTTP/1.1\" 200 1406 \"http://127.0.0.1:9093/\" \"Mozilla/5.0 (Windows NT 10.0; Win64; x64; rv:132.0) Gecko/20100101 Firefox/132.0\"\n"
     ]
    },
    {
     "name": "stderr",
     "output_type": "stream",
     "text": [
      "INFO:cherrypy.access.2079491014416:127.0.0.1 - - [25/Nov/2024:14:45:26] \"GET /favicon.ico HTTP/1.1\" 200 1406 \"http://127.0.0.1:9093/\" \"Mozilla/5.0 (Windows NT 10.0; Win64; x64; rv:132.0) Gecko/20100101 Firefox/132.0\"\n",
      "ERROR:root:Error: getPlot method must return an pyplot figure or matplotlib Axes object\n"
     ]
    },
    {
     "name": "stdout",
     "output_type": "stream",
     "text": [
      "127.0.0.1 - - [25/Nov/2024:14:45:27] \"GET /plot?index=VCI&region=1&start_date=1982-01-01&end_date=1982-12-31&output_id=plot& HTTP/1.1\" 200 45921 \"http://127.0.0.1:9093/\" \"Mozilla/5.0 (Windows NT 10.0; Win64; x64; rv:132.0) Gecko/20100101 Firefox/132.0\"\n"
     ]
    },
    {
     "name": "stderr",
     "output_type": "stream",
     "text": [
      "INFO:cherrypy.access.2079491014416:127.0.0.1 - - [25/Nov/2024:14:45:27] \"GET /plot?index=VCI&region=1&start_date=1982-01-01&end_date=1982-12-31&output_id=plot& HTTP/1.1\" 200 45921 \"http://127.0.0.1:9093/\" \"Mozilla/5.0 (Windows NT 10.0; Win64; x64; rv:132.0) Gecko/20100101 Firefox/132.0\"\n"
     ]
    },
    {
     "name": "stdout",
     "output_type": "stream",
     "text": [
      "127.0.0.1 - - [25/Nov/2024:14:45:46] \"GET / HTTP/1.1\" 200 442105 \"\" \"Mozilla/5.0 (Windows NT 10.0; Win64; x64; rv:132.0) Gecko/20100101 Firefox/132.0\"\n"
     ]
    },
    {
     "name": "stderr",
     "output_type": "stream",
     "text": [
      "INFO:cherrypy.access.2079491014416:127.0.0.1 - - [25/Nov/2024:14:45:46] \"GET / HTTP/1.1\" 200 442105 \"\" \"Mozilla/5.0 (Windows NT 10.0; Win64; x64; rv:132.0) Gecko/20100101 Firefox/132.0\"\n"
     ]
    },
    {
     "name": "stdout",
     "output_type": "stream",
     "text": [
      "127.0.0.1 - - [25/Nov/2024:14:45:46] \"GET /table?index=VHI&region=1&start_date=1982-01-01&end_date=1985-12-31&output_id=table_id& HTTP/1.1\" 200 15492 \"http://127.0.0.1:9093/\" \"Mozilla/5.0 (Windows NT 10.0; Win64; x64; rv:132.0) Gecko/20100101 Firefox/132.0\"\n"
     ]
    },
    {
     "name": "stderr",
     "output_type": "stream",
     "text": [
      "INFO:cherrypy.access.2079491014416:127.0.0.1 - - [25/Nov/2024:14:45:46] \"GET /table?index=VHI&region=1&start_date=1982-01-01&end_date=1985-12-31&output_id=table_id& HTTP/1.1\" 200 15492 \"http://127.0.0.1:9093/\" \"Mozilla/5.0 (Windows NT 10.0; Win64; x64; rv:132.0) Gecko/20100101 Firefox/132.0\"\n"
     ]
    },
    {
     "name": "stdout",
     "output_type": "stream",
     "text": [
      "127.0.0.1 - - [25/Nov/2024:14:45:46] \"GET /spinning_wheel HTTP/1.1\" 200 2663 \"http://127.0.0.1:9093/\" \"Mozilla/5.0 (Windows NT 10.0; Win64; x64; rv:132.0) Gecko/20100101 Firefox/132.0\"\n"
     ]
    },
    {
     "name": "stderr",
     "output_type": "stream",
     "text": [
      "INFO:cherrypy.access.2079491014416:127.0.0.1 - - [25/Nov/2024:14:45:46] \"GET /spinning_wheel HTTP/1.1\" 200 2663 \"http://127.0.0.1:9093/\" \"Mozilla/5.0 (Windows NT 10.0; Win64; x64; rv:132.0) Gecko/20100101 Firefox/132.0\"\n"
     ]
    },
    {
     "name": "stdout",
     "output_type": "stream",
     "text": [
      "127.0.0.1 - - [25/Nov/2024:14:45:46] \"GET /favicon.ico HTTP/1.1\" 200 1406 \"http://127.0.0.1:9093/\" \"Mozilla/5.0 (Windows NT 10.0; Win64; x64; rv:132.0) Gecko/20100101 Firefox/132.0\"\n"
     ]
    },
    {
     "name": "stderr",
     "output_type": "stream",
     "text": [
      "INFO:cherrypy.access.2079491014416:127.0.0.1 - - [25/Nov/2024:14:45:46] \"GET /favicon.ico HTTP/1.1\" 200 1406 \"http://127.0.0.1:9093/\" \"Mozilla/5.0 (Windows NT 10.0; Win64; x64; rv:132.0) Gecko/20100101 Firefox/132.0\"\n",
      "ERROR:root:Error: getPlot method must return an pyplot figure or matplotlib Axes object\n"
     ]
    },
    {
     "name": "stdout",
     "output_type": "stream",
     "text": [
      "127.0.0.1 - - [25/Nov/2024:14:45:46] \"GET /plot?index=VHI&region=1&start_date=1982-01-01&end_date=1985-12-31&output_id=plot& HTTP/1.1\" 200 95210 \"http://127.0.0.1:9093/\" \"Mozilla/5.0 (Windows NT 10.0; Win64; x64; rv:132.0) Gecko/20100101 Firefox/132.0\"\n"
     ]
    },
    {
     "name": "stderr",
     "output_type": "stream",
     "text": [
      "INFO:cherrypy.access.2079491014416:127.0.0.1 - - [25/Nov/2024:14:45:46] \"GET /plot?index=VHI&region=1&start_date=1982-01-01&end_date=1985-12-31&output_id=plot& HTTP/1.1\" 200 95210 \"http://127.0.0.1:9093/\" \"Mozilla/5.0 (Windows NT 10.0; Win64; x64; rv:132.0) Gecko/20100101 Firefox/132.0\"\n"
     ]
    }
   ],
   "source": [
    "__main__.__file__ = os.getcwd()\n",
    "\n",
    "class NOAADataApp(server.App):\n",
    "    title = \"NOAA Data Visualization\"\n",
    "\n",
    "    inputs = [\n",
    "        {\n",
    "            \"type\": 'dropdown',  # VCI, TCI, VHI\n",
    "            \"label\": 'Select Index',\n",
    "            \"options\": [\n",
    "                {\"label\": \"VCI\", \"value\": \"VCI\"},\n",
    "                {\"label\": \"TCI\", \"value\": \"TCI\"},\n",
    "                {\"label\": \"VHI\", \"value\": \"VHI\"}\n",
    "            ],\n",
    "            \"key\": \"index\",\n",
    "            \"action_id\": \"update_data\"\n",
    "        },\n",
    "        {\n",
    "            \"type\": 'dropdown',  # Вибір регіону\n",
    "            \"label\": 'Select Region',\n",
    "            \"options\": [{\"label\": f\"Region {i}\", \"value\": i} for i in sorted(df['area'].unique())],\n",
    "            \"key\": \"region\",\n",
    "            \"action_id\": \"update_data\"\n",
    "        },\n",
    "        {\n",
    "            \"type\": 'text',  # Поле для введення початкової дати\n",
    "            \"key\": 'start_date',\n",
    "            \"label\": 'Enter Start Date',\n",
    "            \"value\": '1982-01-01',\n",
    "            \"action_id\": 'update_data'\n",
    "        },\n",
    "        {\n",
    "            \"type\": 'text',  # Поле для введення кінцевої дати\n",
    "            \"key\": 'end_date',\n",
    "            \"label\": 'Enter End Date',\n",
    "            \"value\": '1982-12-31',\n",
    "            \"action_id\": 'update_data'\n",
    "        }\n",
    "    ]\n",
    "\n",
    "    outputs = [\n",
    "        {\"type\": \"plot\", \"id\": \"plot\", \"control_id\": \"update_data\", \"tab\": \"Plot\"},  # Графік\n",
    "        {\"type\": \"table\", \"id\": \"table_id\", \"control_id\": \"update_data\", \"tab\": \"Table\"}  # Таблиця\n",
    "    ]\n",
    "\n",
    "    tabs = [\"Table\", \"Plot\"]  # Вкладки для таблиці та графіка\n",
    "\n",
    "    # Функція для підготовки таблиці даних\n",
    "    def getData(self, params):\n",
    "        # Отримуємо параметри\n",
    "        index = params['index']  # Вибраний індекс (VCI, TCI, VHI)\n",
    "        region = int(params['region'])  # Вибрана область\n",
    "        start_date = pd.to_datetime(params['start_date'])  # Початкова дата\n",
    "        end_date = pd.to_datetime(params['end_date'])  # Кінцева дата\n",
    "\n",
    "        # Фільтруємо дані за областю та діапазоном дат\n",
    "        filtered_df = df[(df['area'] == region) & \n",
    "                         (df['Date'] >= start_date) & \n",
    "                         (df['Date'] <= end_date)]\n",
    "\n",
    "        # Повертаємо тільки потрібні стовпці\n",
    "        return filtered_df[['Year', 'Week', index]]\n",
    "\n",
    "    # Функція для створення графіка\n",
    "    def getPlot(self, params):\n",
    "        # Використовуємо getData для отримання відфільтрованих даних\n",
    "        filtered_df = self.getData(params)\n",
    "\n",
    "        # Створюємо графік\n",
    "        grouped = filtered_df.groupby('Year')\n",
    "        plt.figure(figsize=(15, 6))\n",
    "        for year, data in grouped:\n",
    "            plt.plot(data['Week'], data[params['index']], marker='o', label=f'{year}')\n",
    "\n",
    "        plt.title(f\"{params['index']} по тижнях для регіону {params['region']}\")\n",
    "        plt.xlabel('Тиждень')\n",
    "        plt.ylabel(params['index'])\n",
    "        plt.legend(title='Рік')\n",
    "        plt.grid(True)\n",
    "        \n",
    "        fig = plt.gcf()  # Отримуємо об'єкт фігури для відображення\n",
    "        return fig\n",
    "\n",
    "# Запуск додатку\n",
    "if __name__ == \"__main__\":\n",
    "    app = NOAADataApp()\n",
    "    app.launch(port=9093)"
   ]
  }
 ],
 "metadata": {
  "kernelspec": {
   "display_name": "venv",
   "language": "python",
   "name": "python3"
  },
  "language_info": {
   "codemirror_mode": {
    "name": "ipython",
    "version": 3
   },
   "file_extension": ".py",
   "mimetype": "text/x-python",
   "name": "python",
   "nbconvert_exporter": "python",
   "pygments_lexer": "ipython3",
   "version": "3.11.0"
  }
 },
 "nbformat": 4,
 "nbformat_minor": 2
}
